{
 "cells": [
  {
   "cell_type": "code",
   "execution_count": 1,
   "metadata": {},
   "outputs": [
    {
     "name": "stdout",
     "output_type": "stream",
     "text": [
      "i8 bello 2000\n"
     ]
    }
   ],
   "source": [
    "class Computer:\n",
    "    def config():\n",
    "        print(\"i8\",\"bello\",2000)\n",
    "com1 = Computer\n",
    "com1.config()"
   ]
  },
  {
   "cell_type": "code",
   "execution_count": 4,
   "metadata": {},
   "outputs": [
    {
     "name": "stdout",
     "output_type": "stream",
     "text": [
      "PRASANNA\n",
      "HELLO\n",
      "Hi\n"
     ]
    }
   ],
   "source": [
    "class Grandma:\n",
    "    def read(self):\n",
    "        print(\"Hi\")\n",
    "class Parent(Grandma):\n",
    "    def display(self):\n",
    "        print(\"HELLO\")\n",
    "class Child(Parent):\n",
    "    def show(self):\n",
    "        print(\"PRASANNA\")\n",
    "c1=Child()\n",
    "c1.show()\n",
    "c1.display()\n",
    "c1.read()\n"
   ]
  },
  {
   "cell_type": "code",
   "execution_count": 1,
   "metadata": {},
   "outputs": [
    {
     "name": "stdout",
     "output_type": "stream",
     "text": [
      "Rodger is a mammal\n",
      "Tommy is also a mammal\n",
      "My name is Rodger\n",
      "My name is Tommy\n"
     ]
    }
   ],
   "source": [
    "class Dog: \n",
    "\n",
    "\t# class attribute \n",
    "\tattr1 = \"mammal\"\n",
    "\n",
    "\t# Instance attribute \n",
    "\tdef __init__(self, name): \n",
    "\t\tself.name = name \n",
    "\n",
    "# Driver code \n",
    "# Object instantiation \n",
    "Rodger = Dog(\"Rodger\") \n",
    "Tommy = Dog(\"Tommy\") \n",
    "\n",
    "# Accessing class attributes \n",
    "print(\"Rodger is a {}\".format(Rodger.__class__.attr1)) \n",
    "print(\"Tommy is also a {}\".format(Tommy.__class__.attr1)) \n",
    "\n",
    "# Accessing instance attributes \n",
    "print(\"My name is {}\".format(Rodger.name)) \n",
    "print(\"My name is {}\".format(Tommy.name))\n"
   ]
  },
  {
   "cell_type": "code",
   "execution_count": null,
   "metadata": {},
   "outputs": [],
   "source": []
  },
  {
   "cell_type": "code",
   "execution_count": null,
   "metadata": {},
   "outputs": [],
   "source": []
  },
  {
   "cell_type": "code",
   "execution_count": null,
   "metadata": {},
   "outputs": [],
   "source": []
  }
 ],
 "metadata": {
  "kernelspec": {
   "display_name": "Python 3",
   "language": "python",
   "name": "python3"
  },
  "language_info": {
   "codemirror_mode": {
    "name": "ipython",
    "version": 3
   },
   "file_extension": ".py",
   "mimetype": "text/x-python",
   "name": "python",
   "nbconvert_exporter": "python",
   "pygments_lexer": "ipython3",
   "version": "3.12.1"
  }
 },
 "nbformat": 4,
 "nbformat_minor": 2
}
